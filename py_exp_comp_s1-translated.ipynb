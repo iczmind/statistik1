{
 "cells": [
  {
   "cell_type": "markdown",
   "metadata": {},
   "source": [
    "<figure>\n",
    "  <IMG SRC=\"https://raw.githubusercontent.com/mbakker7/exploratory_computing_with_python/master/tudelft_logo.png\" WIDTH=250 ALIGN=\"right\">\n",
    "</figure>\n",
    "\n",
    "# Komputasi Eksplorasi dengan Python\n",
    "*Oleh Mark Bakker*"
   ]
  },
  {
   "cell_type": "markdown",
   "metadata": {},
   "source": [
    "## Notebook Statistik 1: Variabel Diskrit Acak\n",
    "\n",
    "*Notebook* ini adalah yang pertama dengan aplikasi program Python dalam bidang probabilitas dan stastitik. Banyak fungsi yang akan kita gunakan di sini termasuk ke dalam subpaket `random` dari `numpy`. Kita akan mengimpor paket tersebut dan menyebutnya `rnd` sehingga kita tidak perlu mengetik `np.random.` sepanjang waktu."
   ]
  },
  {
   "cell_type": "code",
   "execution_count": 1,
   "metadata": {
    "collapsed": false
   },
   "outputs": [],
   "source": [
    "import numpy as np\n",
    "import matplotlib.pyplot as plt\n",
    "import numpy.random as rnd\n",
    "%matplotlib inline"
   ]
  },
  {
   "cell_type": "markdown",
   "metadata": {},
   "source": [
    "###Nomor Acak\n",
    "\n",
    "Pembuat nomor acak, atau *random number generator*, mengajak Anda menggambarkan, secara acak, angka tertentu dari distribusi spesifik. Beberapa nomor kasus yang acak sudah termasuk ke dalam paket `random`. Sebagai contoh, fungsi `random_integers(low,high,size)` mengembalikan array bilangan bulat dari bentuk `size` secara acak dari nilai terendah atau `low` sampai dengan tertinggi atau `high`. Sebagai contoh, marilah kita membalikkan sebuah koin sebanyak 10 kali dan tetapkan nilai 0 sebagai kepala dan 1 sebagai ekor."
   ]
  },
  {
   "cell_type": "code",
   "execution_count": 2,
   "metadata": {
    "collapsed": false
   },
   "outputs": [
    {
     "name": "stderr",
     "output_type": "stream",
     "text": [
      "C:\\Users\\mbagu\\Anaconda3\\lib\\site-packages\\ipykernel\\__main__.py:1: DeprecationWarning: This function is deprecated. Please call randint(0, 1 + 1) instead\n",
      "  if __name__ == '__main__':\n"
     ]
    },
    {
     "data": {
      "text/plain": [
       "array([1, 0, 1, 1, 1, 1, 1, 0, 1, 1])"
      ]
     },
     "execution_count": 2,
     "metadata": {},
     "output_type": "execute_result"
    }
   ],
   "source": [
    "rnd.random_integers(0,1,10)"
   ]
  },
  {
   "cell_type": "markdown",
   "metadata": {},
   "source": [
    "Jika kita memanggil fungsi `random_integers` lagi, kita akan mendapatkan urutan yang berbeda dari kepala (0) dan ekor (1):"
   ]
  },
  {
   "cell_type": "code",
   "execution_count": 3,
   "metadata": {
    "collapsed": false
   },
   "outputs": [
    {
     "name": "stderr",
     "output_type": "stream",
     "text": [
      "C:\\Users\\mbagu\\Anaconda3\\lib\\site-packages\\ipykernel\\__main__.py:1: DeprecationWarning: This function is deprecated. Please call randint(0, 1 + 1) instead\n",
      "  if __name__ == '__main__':\n"
     ]
    },
    {
     "data": {
      "text/plain": [
       "array([0, 0, 1, 1, 0, 0, 0, 1, 1, 1])"
      ]
     },
     "execution_count": 3,
     "metadata": {},
     "output_type": "execute_result"
    }
   ],
   "source": [
    "rnd.random_integers(0,1,10)"
   ]
  },
  {
   "cell_type": "markdown",
   "metadata": {},
   "source": [
    "Secara internal, pembuat nomor acak memulainya dengan apa yang disebut benih atau *seed*. *Seed* adalah sebuah nilai yang dihasilkan otomatis (dan seharusnya acak) ketika Anda memanggil pembuat nomor acak. Nilai *seed* benar-benar mendefinisikan urutan nomor-nomor acak yang Anda dapatkan (sebagian orang dapat memperdebatkan bahwa urutan yang dibuat bersifat acak-semu atau *pseudo-random*, dan Anda mungkin tidak ingin lagi menggunakan urutannya untuk penggunaan kriptografik serius tapi untuk keperluan kita hari ini, angka-angka tersebut sudah cukup acak). Sebagai contoh, marilah atur `seed` sedemikian sehingga sama dengan 10."
   ]
  },
  {
   "cell_type": "code",
   "execution_count": 4,
   "metadata": {
    "collapsed": false
   },
   "outputs": [
    {
     "data": {
      "text/plain": [
       "array([1, 1, 0, 1, 0, 1, 1, 0, 1, 1])"
      ]
     },
     "execution_count": 4,
     "metadata": {},
     "output_type": "execute_result"
    }
   ],
   "source": [
    "rnd.seed(10)\n",
    "rnd.random_integers(0,1,10)"
   ]
  },
  {
   "cell_type": "markdown",
   "metadata": {},
   "source": [
    "Jika kita memperinci *seed* lagi sebagai 10, kita dapat membuat lagi urutan yang sama persis."
   ]
  },
  {
   "cell_type": "code",
   "execution_count": 5,
   "metadata": {
    "collapsed": false
   },
   "outputs": [
    {
     "data": {
      "text/plain": [
       "array([1, 1, 0, 1, 0, 1, 1, 0, 1, 1])"
      ]
     },
     "execution_count": 5,
     "metadata": {},
     "output_type": "execute_result"
    }
   ],
   "source": [
    "rnd.seed(10)\n",
    "rnd.random_integers(0,1,10)"
   ]
  },
  {
   "cell_type": "markdown",
   "metadata": {},
   "source": [
    "Kemampuan menghasilkan urutan yang sama persis sangat berguna selama pembuatan kode. Dengan menggunakan *seed* untuk pembuat nomor acak, Anda dapat membandingkan hasil/*output* Anda dengan orang lain yang juga sedang mencoba menyelesaikan persoalan yang sama."
   ]
  },
  {
   "cell_type": "markdown",
   "metadata": {},
   "source": [
    "###Membalikkan koin\n",
    "\n",
    "Cukuplah dahulu saat ini mengenai pembuat nomor acak. Marilah kita membalikkan koin sebanyak 100 kali dan hitunglah jumlah kepala (semua yang bernilai 0) dan jumlah ekor (semua yang bernilai 1):"
   ]
  },
  {
   "cell_type": "code",
   "execution_count": 4,
   "metadata": {
    "collapsed": false
   },
   "outputs": [
    {
     "name": "stdout",
     "output_type": "stream",
     "text": [
      "Jumlah kepala:  52\n",
      "Jumlah ekor:  48\n"
     ]
    },
    {
     "name": "stderr",
     "output_type": "stream",
     "text": [
      "C:\\Users\\mbagu\\Anaconda3\\lib\\site-packages\\ipykernel\\__main__.py:1: DeprecationWarning: This function is deprecated. Please call randint(0, 1 + 1) instead\n",
      "  if __name__ == '__main__':\n"
     ]
    }
   ],
   "source": [
    "flip = rnd.random_integers(0,1,100)\n",
    "hitungkepala = 0\n",
    "hitungekor = 0\n",
    "for i in range(100):\n",
    "    if flip[i] == 0:\n",
    "        hitungkepala += 1\n",
    "    else:\n",
    "        hitungekor += 1\n",
    "print('Jumlah kepala: ',hitungkepala)\n",
    "print('Jumlah ekor: ',hitungekor)"
   ]
  },
  {
   "cell_type": "markdown",
   "metadata": {},
   "source": [
    "Pertama-tama, perhatikan bahwa jumlah kepala dan jumlah ekor bernilai sampai dengan 100. Lebih jauh lagi, perhatikan bagaimana cara kita menghitung kepala dan ekor. Kita membuat penghitung `hitungkepala` dan `hitungekor`, dibuat loop melalui seluruh pembalikan, dan ditambahkan 1 nilai untuk proses penghitungan yang tepat. Selain dengan loop, kita juga dapat menggunakan kondisi dari indeks/pengenal yang digabungkan dengan hasil penjumlahan, sebagai berikut:"
   ]
  },
  {
   "cell_type": "code",
   "execution_count": 26,
   "metadata": {
    "collapsed": false
   },
   "outputs": [
    {
     "name": "stdout",
     "output_type": "stream",
     "text": [
      "hitungkepala  43\n",
      "hitungekor  57\n"
     ]
    }
   ],
   "source": [
    "hitungkepala = np.sum( flip == 0 )\n",
    "hitungekor = np.sum( flip == 1 )\n",
    "print('hitungkepala ', hitungkepala)\n",
    "print('hitungekor ', hitungekor)"
   ]
  },
  {
   "cell_type": "markdown",
   "metadata": {},
   "source": [
    "Bagaimana cara kerjanya? Anda dapat mengingat kembali pernyataan `flip == 0` yang mengembalikan array dengan panjang 100 (sama dengan panjang `flip`) dengan nilai benar atau `True` saat kondisi awal terpenuhi,b dan salah atau `False` jika kondisi tidak terpenuhi. Data `True` bertipe boolean mempunyai nilai 1, dan data boolean `False` bernilai 0. Jadi, ketika kita menjumlahkan seluruh nilai dalam array `flip == 0`, kita menjumlahkan seluruh  nilai `True`, di mana setiap nilai `True` sama dengan 1.\n",
    "\n",
    "Kode di atas terbilang mudah, tetapi jika kita melakukan eksperimen dengan lebih dari dua hasil, kode tersebut akan menjadi tidak efektif untuk menjumlahkan setiap hasil yang memungkinkan. Oleh karena itu, marilah mencoba menulis ulang kode bagian ini dengan menggunakan loop. Dalam kasus spesifik ini, jumlah baris dalam kode tidak berkurang, tetapi saat kita memiliki eksperimen dengan berbagai hasil berbeda, hasilnya akan jauh lebih efisien."
   ]
  },
  {
   "cell_type": "code",
   "execution_count": 20,
   "metadata": {
    "collapsed": false
   },
   "outputs": [
    {
     "name": "stdout",
     "output_type": "stream",
     "text": [
      "hasil  0  adalah  52.0\n",
      "hasil  1  adalah  48.0\n"
     ]
    }
   ],
   "source": [
    "hasil = np.zeros(2) # Dua hasil. Kepala disimpan dalam  hasil[0], ekor dalam hasil[1]\n",
    "for i in range (2):\n",
    "    hasil[i] = np.sum( flip == i )\n",
    "    print('hasil ',i,' adalah ',hasil[i])"
   ]
  },
  {
   "cell_type": "markdown",
   "metadata": {},
   "source": [
    "###Latihan 1. <a name=\"back1\"></a>Melemparkan dadu\n",
    "\n",
    "Lemparlah sebuah dadu sebanyak 100 kali dan catatlah berapa kali Anda melemparkan 1, 2, 3, 4, 5, dan 6\n",
    "Throw a dice 100 times and report how many times you throw 1, 2, 3, 4, 5, and 6. Gunakanlah *seed* 33. Pastikanlah bahwa nilai yang tercatat dapat ditambahkan sampai dengan 100. Pastikanlah juga bahwa Anda menggunakan loop di dalam kode Anda seperti apa yang telah kita lakukan dalam sel kode sebelumnya."
   ]
  },
  {
   "cell_type": "code",
   "execution_count": 38,
   "metadata": {
    "collapsed": false
   },
   "outputs": [
    {
     "name": "stdout",
     "output_type": "stream",
     "text": [
      "[5 1 3 3 2 2 4 6 4 5 3 6 4 2 6 5 3 5 4 1 1 3 1 5 1 1 4 2 4 4 3 4 3 2 5 4 4\n",
      " 4 2 3 1 1 5 5 2 3 6 3 4 5 2 2 5 2 4 2 5 1 3 5 1 5 4 5 4 6 3 1 1 2 6 3 2 5\n",
      " 2 2 4 4 4 6 4 4 3 4 1 4 4 1 1 2 5 1 5 5 4 3 5 1 6 2]\n",
      "hasil  1  adalah  17.0\n",
      "hasil  2  adalah  17.0\n",
      "hasil  3  adalah  15.0\n",
      "hasil  4  adalah  24.0\n",
      "hasil  5  adalah  19.0\n",
      "hasil  6  adalah  8.0\n"
     ]
    },
    {
     "name": "stderr",
     "output_type": "stream",
     "text": [
      "C:\\Users\\mbagu\\Anaconda3\\lib\\site-packages\\ipykernel\\__main__.py:3: DeprecationWarning: This function is deprecated. Please call randint(1, 6 + 1) instead\n",
      "  app.launch_new_instance()\n"
     ]
    }
   ],
   "source": [
    "N=100\n",
    "rnd.seed(33)\n",
    "dadu=rnd.random_integers(1,6,N)\n",
    "print(dadu)\n",
    "hasil=np.zeros(6)\n",
    "for i in range(6):\n",
    "    hasil[i]=np.sum(dadu==i+1)\n",
    "    print ('hasil ',i+1,' adalah ',hasil[i])\n",
    "    "
   ]
  },
  {
   "cell_type": "markdown",
   "metadata": {},
   "source": [
    "<a href=\"#ex1answer\">Kunci Jawaban Latihan 1</a>"
   ]
  },
  {
   "cell_type": "markdown",
   "metadata": {},
   "source": [
    "###Membalikkan koin dua kali\n",
    "\n",
    "Selanjutnya, kita akan membalikkan koin sebanyak dua kali dalam 100 kali percobaan dan menghitung jumlah ekor yang didapatkan. Kita buat array acak dari nilai-nilai 0 (kepala) dan nilai-nilai 1 (ekor) dengan dua baris (merepresentasikan pembalikan dua koin) dan 100 kolom. Penjumlahan sepanjang dua baris tersebut merepresentasikan jumlah ekor. Fungsi `sum` mengambil sebuah array dan pada dasarnya/*default* menjumlahkan seluruh nilai di dalam array tersebut serta mengembalikan sebuah angka. Dalam kasus ini, kita ingin menjumlahkan baris-baris tersebut. Untuk itu, fungsi `sum` memiliki argumen kata kunci yang disebut `axis`, di mana `axis=0` menjumlahkan nilai-nilai dalam array (seluruh baris) melalui indeks 0, `axis=1` menjumlahkan nilai-nilai dalam array melalui indeks 1 (seluruh kolom), dsb."
   ]
  },
  {
   "cell_type": "code",
   "execution_count": 39,
   "metadata": {
    "collapsed": false
   },
   "outputs": [
    {
     "name": "stdout",
     "output_type": "stream",
     "text": [
      "nilai 0, 1, 2 ekor: 48\n"
     ]
    },
    {
     "name": "stderr",
     "output_type": "stream",
     "text": [
      "C:\\Users\\mbagu\\Anaconda3\\lib\\site-packages\\ipykernel\\__main__.py:2: DeprecationWarning: This function is deprecated. Please call randint(0, 1 + 1) instead\n",
      "  from ipykernel import kernelapp as app\n"
     ]
    }
   ],
   "source": [
    "rnd.seed(55)\n",
    "flips = rnd.random_integers(low=0, high=1, size=(2,100))\n",
    "ekor = np.sum(flips, axis=0)\n",
    "jumlah_ekor = np.zeros(3)\n",
    "for i in range(3):\n",
    "    jumlah_ekor[i] = np.sum( ekor == i )\n",
    "print('nilai 0, 1, 2 ekor:',hitungekor)"
   ]
  },
  {
   "cell_type": "markdown",
   "metadata": {},
   "source": [
    "Cara lain untuk membuat simulasi pembalikan koin dua kali adalah dengan mengundi sebuah nilai secara acak dari sebuah set dengan 2 angka (0 dan 1). Tentu saja, Anda perlu mengganti angka setiap selesai pengundian. Fungsi `numpy` untuk pengundian angka secara acak dari sebuah array yang diberikan disebut `choice`. Fungsi `choice` memiliki kata kunci untuk menentukan apakah nilai-nilai tersebut tergantikan atau tidak. Dengan demikian, dua cara di bawah ini identik untuk membuat 5 kali pembalikan."
   ]
  },
  {
   "cell_type": "code",
   "execution_count": 40,
   "metadata": {
    "collapsed": false
   },
   "outputs": [
    {
     "name": "stderr",
     "output_type": "stream",
     "text": [
      "C:\\Users\\mbagu\\Anaconda3\\lib\\site-packages\\ipykernel\\__main__.py:2: DeprecationWarning: This function is deprecated. Please call randint(0, 1 + 1) instead\n",
      "  from ipykernel import kernelapp as app\n"
     ]
    },
    {
     "data": {
      "text/plain": [
       "True"
      ]
     },
     "execution_count": 40,
     "metadata": {},
     "output_type": "execute_result"
    }
   ],
   "source": [
    "rnd.seed(55)\n",
    "flips1 = rnd.random_integers(low=0, high=1, size=5)\n",
    "rnd.seed(55)\n",
    "flips2 = rnd.choice(list(range(2)), size=5, replace=True)\n",
    "np.alltrue(flips1==flips2)  # Periksalah apakah seluruh nilai dalam kedua array bernilai sama."
   ]
  },
  {
   "cell_type": "markdown",
   "metadata": {},
   "source": [
    "###Probabilitas Kumulatif\n",
    "\n",
    "Selanjutnya, kita menghitung probabilitas eksperimental dari keadaan di mana terdapat 0 ekor, 1 ekor, dan 2 ekor sepanjang pembagian oleh jumlah total percobaan (satu kali percobaan berarti dua kali pembalikan koin). Ketiga probabilitas dijumlahkan sampai dengan 1. Distribusi probabilitas kumulatif dihasilkan dengan menjumlahkan secara kumulatif probabilitas dengan menggunakan fungsi `cumsum` dari `numpy`. Nilai pertama adalah probabilitas terlemparkannya kondisi 0 ekor. Nilai kedua adalah probabilitas dari kondisi di mana terdapat 1 ekor atau kurang dari itu, dan nilai ketiga adalah probabilitas dari kondisi di mana terdapat 2 ekor atau kurang dari itu tetapi tetap lebih dari 1 ekor. Probabilitas tersebut dihitung sebagai jumlah ekor dibagi dengan jumlah total percobaan, dan karena `jumlah_ekor` mendapatkan nilai real (bukan bilangan bulat), kita dapat membagina dengan bilangan bulat 100 dan mendapatkan probabilitas yang tepat."
   ]
  },
  {
   "cell_type": "code",
   "execution_count": 41,
   "metadata": {
    "collapsed": false
   },
   "outputs": [
    {
     "name": "stdout",
     "output_type": "stream",
     "text": [
      "cum_prob  [ 0.27  0.74  1.  ]\n"
     ]
    }
   ],
   "source": [
    "prob = jumlah_ekor / 100\n",
    "cum_prob = np.cumsum(prob) # So cum_prob[0] = prob[0], cum_prob[1] = prob[0] + prob[1], dll.\n",
    "print('cum_prob ',cum_prob)"
   ]
  },
  {
   "cell_type": "markdown",
   "metadata": {},
   "source": [
    "Distribusi probabilitas kumulatif \n",
    "\n",
    "Distribusi probabilitas kumulatif dari sebuah dataset umumnya diplot melalui fungsi langkah atau *step*, yang dapat dilakukan dengan cara menetapkan kata kunci `drawstyle='steps-post'` ketika menggunakan fungsi plot. Untuk membuat plot tersebut terlihat indah, kita perlu memberikan sebuah nilai tambah dari 0 di awal array dan sebuah nilai tambah yang lain lagi dari 1 di akhir array. Untuk itu, kita gunakan perintah `hstack`, di mana fungsi tersebut menumpukkan nilai-nilai atau array-array sekaligus, yang satu di belakang yang lain. Perhatikan bahwa nilai atau array yang perlu ditumpuk bersama sudah dikelompokkan ke dalam sebuah tupel (dengan cara menaruh tanda kurung di antaranya). Terakhir, batas sumbu vertikal diperpanjang sedikit agar grafiknya terlihat lebih indah."
   ]
  },
  {
   "cell_type": "code",
   "execution_count": 42,
   "metadata": {
    "collapsed": false
   },
   "outputs": [
    {
     "data": {
      "text/plain": [
       "(-0.1, 1.1)"
      ]
     },
     "execution_count": 42,
     "metadata": {},
     "output_type": "execute_result"
    },
    {
     "data": {
      "image/png": "[encoded data removed]",
      "text/plain": [
       "<matplotlib.figure.Figure at 0x1319ffc5390>"
      ]
     },
     "metadata": {},
     "output_type": "display_data"
    }
   ],
   "source": [
    "y = np.hstack((0,cum_prob,1))\n",
    "plt.plot([-1,0,1,2,3],y,drawstyle='steps-post')\n",
    "plt.xlabel('Jumlah ekor dalam dua baris')\n",
    "plt.ylabel('Probabilitas kumulatif')\n",
    "plt.xticks([0,1,2])\n",
    "plt.ylim(-0.1,1.1)"
   ]
  },
  {
   "cell_type": "markdown",
   "metadata": {},
   "source": [
    "###Latihan 2. <a name=\"back2\"></a>Membalikkan koin sebanyak lima kali\n",
    "\n",
    "Balikkan koin sebanyak 5 kali dalam satu putaran dan catatlah seberapa sering Anda mendapatkan kepala (bervariasi antara 0-5). Lakukan percobaan tersebut sebanyak 1000 kali. Buatlah grafik dengan menampilkan jumlah total kepala pada sumbu horizontal dan perhitungan probabilitas secara empiris untuk mendapatkan kepala dalam jumlah tersebut pada sumbu vertikal. Jalankan kode Anda beberapa kali (tekan [shift]-[enter]) dan lihatlah bahwa grafik tersebut berubah sedikit demi sedikit sepanjang waktu, sama halnya dengan urutan nomor acak berubah dari waktu ke waktu."
   ]
  },
  {
   "cell_type": "code",
   "execution_count": 46,
   "metadata": {
    "collapsed": false
   },
   "outputs": [
    {
     "name": "stderr",
     "output_type": "stream",
     "text": [
      "C:\\Users\\mbagu\\Anaconda3\\lib\\site-packages\\ipykernel\\__main__.py:2: DeprecationWarning: This function is deprecated. Please call randint(0, 1 + 1) instead\n",
      "  from ipykernel import kernelapp as app\n"
     ]
    },
    {
     "data": {
      "text/plain": [
       "<matplotlib.text.Text at 0x131a0948c18>"
      ]
     },
     "execution_count": 46,
     "metadata": {},
     "output_type": "execute_result"
    },
    {
     "data": {
      "image/png": "[encoded data removed]",
      "text/plain": [
       "<matplotlib.figure.Figure at 0x131a09ac128>"
      ]
     },
     "metadata": {},
     "output_type": "display_data"
    }
   ],
   "source": [
    "N = 1000\n",
    "heads = -np.sum( rnd.random_integers(0,1,(5,1000))-1, axis=0 ) # Atau sebut saja ekor = 0 dan kepala = 1\n",
    "countheads = np.zeros(6)\n",
    "for i in range(6):\n",
    "    countheads[i] = sum(heads==i)\n",
    "plt.plot( list(range(0,6)), countheads/N, 'bo' )\n",
    "plt.xlabel('Jumlah kepala dalam lima kali pembalikan')\n",
    "plt.ylabel('probabilitas')"
   ]
  },
  {
   "cell_type": "markdown",
   "metadata": {},
   "source": [
    "Hitunglah probabilitas kumulatifnya. Tampilkan nilai pada layar dan buatlah plot dari fungsi probabilitas kumulatif tersebut dengan menggunakan grafik langkah atau *step graph*."
   ]
  },
  {
   "cell_type": "code",
   "execution_count": 52,
   "metadata": {
    "collapsed": false
   },
   "outputs": [
    {
     "name": "stdout",
     "output_type": "stream",
     "text": [
      "cum_prob  [ 0.033  0.187  0.486  0.803  0.962  1.   ]\n"
     ]
    },
    {
     "data": {
      "text/plain": [
       "(-0.1, 1.1)"
      ]
     },
     "execution_count": 52,
     "metadata": {},
     "output_type": "execute_result"
    },
    {
     "data": {
      "image/png": "[encoded data removed]",
      "text/plain": [
       "<matplotlib.figure.Figure at 0x131a0c08828>"
      ]
     },
     "metadata": {},
     "output_type": "display_data"
    }
   ],
   "source": [
    "prob = countheads /N\n",
    "cum_prob = np.cumsum(prob) # So cum_prob[0] = prob[0], cum_prob[1] = prob[0] + prob[1], dll.\n",
    "print('cum_prob ',cum_prob)\n",
    "y = np.hstack((0,cum_prob,1))\n",
    "plt.plot([-1,0,1,2,3,4,5,6],y,drawstyle='steps-post')\n",
    "plt.xlabel('Jumlah ekor dalam dua baris')\n",
    "plt.ylabel('Probabilitas kumulatif')\n",
    "plt.xticks([0,1,2,3,4,5,6])\n",
    "plt.ylim(-0.1,1.1)\n"
   ]
  },
  {
   "cell_type": "markdown",
   "metadata": {},
   "source": [
    "<a href=\"#ex2answer\">Kunci Jawaban Latihan 2</a>"
   ]
  },
  {
   "cell_type": "markdown",
   "metadata": {},
   "source": [
    "###Probabilitas variabel Bernoulli\n",
    "\n",
    "Dalam latihan sebelumnya, kita telah menghitung probabilitas beberapa nilai tertentu dari kepala dalam lima kali pembalikan secara ekperimental. Namun, tentu saja, kita dapat menghitung nilai tersebut secara tepat dengan menggunakan beberapa rumus sederhana. Perhatikan variabel acak $Y$, yang merupakan hasil dari percobaan dengan dua nilai yang memungkinkan, yaitu 0 dan 1. Biarkanlah $p$ menjadi \"probabilitas kesuksesan\" $p=P(Y=1)$.\n",
    "Kemudian, $Y$ dianggap sebagai variabel Bernoulli. Percobaan ini diulang kembali sebanyak $n$ kali dan kita definisikan $X$ sebagai jumlah kesuksesan dalam percobaan. Variabel $X$ memiliki Distribusi Binomial dengan parameter $n$ and $p$. Probabilitas dari $X$ mengambil nilai $k$ dapat dihitung sebagai (sebagai contoh, lihatlah [di sini](http://en.wikipedia.org/wiki/Binomial_distribution)).\n",
    "\n",
    "$P(X=k) = \\binom{n}{k}p^k(1-p)^{n-k}$\n",
    "\n",
    "Istilah $\\binom{n}{k}$ dapat dihitung menggunakan fungsi `comb`, yang perlu diimpor dari paket `scipy.misc`."
   ]
  },
  {
   "cell_type": "markdown",
   "metadata": {},
   "source": [
    "###Latihan 3. <a name=\"back3\"></a>Meninjau kembali pembalikan koin sebanyak 5 kali\n",
    "\n",
    "Kembalilah ke dalam percobaan di mana kita membalikkan koin lima kali dalam satu putaran dan mencatat seberapa sering kita mendapatkan kepala. Hitunglah probabilitas teoritis untuk kondisi di mana kita mendapat 0, 1, 2, 3, 4, dan 5 kepala dan bandingkanlah jawaban Anda dengan probabilitas yang telah dihitung dari percobaan 1000 kali, percobaan 10000 kali, dan 100000 kali. Apakah bagi Anda nilai teoritis harus didekati dengan lebih banyak percobaan?"
   ]
  },
  {
   "cell_type": "code",
   "execution_count": null,
   "metadata": {
    "collapsed": false
   },
   "outputs": [],
   "source": []
  },
  {
   "cell_type": "markdown",
   "metadata": {},
   "source": [
    "<a href=\"#ex3answer\">Kunci Jawaban Latihan 3</a>"
   ]
  },
  {
   "cell_type": "markdown",
   "metadata": {},
   "source": [
    "###Latihan 4. <a name=\"back4\"></a>Nilai maksimum dari dua kali pelemparan dadu\n",
    "\n",
    "Lemparkan dadu sebanyak dua kali dan catatlah nilai maksimum dari dua pelemparan. Gunakan fungsi `amax` untuk menghitung nilai maksimum. Sama seperti fungsi `sum`, fungsi `amax` (yang merupakan singkatan dari \"*array maximum*\") mengambil sebuah array sebagai argumen input dan sebuah argumen kata kunci secara optional yang dinamakan `axis`. Lakukan percobaan tersebut 1000 kali dan hitunglah probabilitasnya dengan nilai tertinggi 1, 2, 3, 4, 5, atau 6. Buatlah grafik distribusi probabilitas kumulatifnya dengna menggunakan *step graph*."
   ]
  },
  {
   "cell_type": "code",
   "execution_count": null,
   "metadata": {
    "collapsed": false
   },
   "outputs": [],
   "source": []
  },
  {
   "cell_type": "markdown",
   "metadata": {},
   "source": [
    "<a href=\"#ex4answer\">Kunci Jawaban Latihan 4</a>"
   ]
  },
  {
   "cell_type": "markdown",
   "metadata": {},
   "source": [
    "###Latihan 5. <a name=\"back5\"></a>Meninjau kembali nilai maksimum dari dua kali pelemparan dadu\n",
    "Mengacu pada Latihan 4.\n",
    "\n",
    "Hitunglah nilai teoritis dari probabilitas dadu tertinggi ketika dilakukan dua kali pelemparan (kedua pelemparan tersebut diberi label T1 dan T2). Terdapat 36 hasil yang memungkinkan untjk percobaan ini. Biarlah $M$ menandakan variabel acak yang terhubung dengan percobaan ini (artinya, sebagai contoh, $M=3$ ketika pelemparan pertama Anda adalah 2, dan pelemparan keduanya adalah 3). Seluruh hasil $M$ dapat dengan mudah dituliskan seperti pada Tabel di bawah ini:\n",
    "\n",
    "| T1$\\downarrow$ T2$\\to$ | 1 | 2 | 3 | 4 | 5 | 6 |\n",
    "|-----------:|------------:|:------------:|\n",
    "|  1 | 1 | 2 | 3 | 4 | 5 | 6 |\n",
    "|  2 | 2 | 2 | 3 | 4 | 5 | 6 |\n",
    "|  3 | 3 | 3 | 3 | 4 | 5 | 6 |\n",
    "|  4 | 4 | 4 | 4 | 4 | 5 | 6 |\n",
    "|  5 | 5 | 5 | 5 | 5 | 5 | 6 |\n",
    "|  6 | 6 | 6 | 6 | 6 | 6 | 6 |\n",
    "\n",
    "Gunakanlah 36 hasil yang memungkinkan seperti yang telah diperlihatkan pada Tabel untuk menghitung probabilitas teoritis dari $M$ menjadi 1, 2, 3, 4, 5, atau 6. Bandingkanlah hasil teoritis dengan percobaan untuk 1000, 10000, dan 100000 kali pelemparan dadu."
   ]
  },
  {
   "cell_type": "code",
   "execution_count": null,
   "metadata": {
    "collapsed": false
   },
   "outputs": [],
   "source": []
  },
  {
   "cell_type": "markdown",
   "metadata": {},
   "source": [
    "<a href=\"#ex5answer\">Kunci Jawaban Latihan 5</a>"
   ]
  },
  {
   "cell_type": "markdown",
   "metadata": {},
   "source": [
    "###Menghasilkan bilangan bulat acak dengan probabilitas yang tidak sama\n",
    "\n",
    "Sejauh ini, kita telah menghasilkan angka-angka acak di mana probabilitas dari tiap hasilnya sama (kepala maupun ekor, atau nilai dari sebuah dadu, dengan mempertimbangkan pelemparan benda dianggap \"adil\"). Bagaimana sekarnag jika kita ingin menciptakan hasil yang tidak memiliki probabilitas yang sama? Sebagai contoh, perhatikanlah sebuah kasus di mana probabilitas sebuah kejadian $A$ adalah 0.35 dan probabilitas kejadian $B$ adalah 0.65. Urutan acak dari kedua event $A$ dan $B$ dihasilkan dari dua langkah. Pertama, kita ciptakan urutan acak angka-angka dari distribusi uniform antara 0 dan 1 melalui fungsi `random_sample` dari paket `random`. Kedua, kita mencatat kejadian $A$ (0) ketika sebuah nilai acak yang kurang dari 0.35 dan kita juga mencatat kejadian $B$ (1) ketika sebuah nilai acak lebih besar dari 0.35. Urutan dari sepuluh kejadian mungkin dapat diciptakan sebagai berikut:"
   ]
  },
  {
   "cell_type": "code",
   "execution_count": 34,
   "metadata": {
    "collapsed": false
   },
   "outputs": [
    {
     "name": "stdout",
     "output_type": "stream",
     "text": [
      "[ 0.24795497  0.98349237  0.7233882   0.52758233  0.31165441  0.21796981\n",
      "  0.68481417  0.30981649  0.46036837  0.388813  ]\n",
      "[ 0.  1.  1.  1.  0.  0.  1.  0.  1.  1.]\n"
     ]
    }
   ],
   "source": [
    "r = rnd.random_sample(10)\n",
    "print(r)\n",
    "events = np.zeros_like(r) # Ciptakan array dari nilai-nilai nol dengan ukuran dan tipe yang sama dengan r\n",
    "events[ r > 0.35 ] = 1\n",
    "print(events)"
   ]
  },
  {
   "cell_type": "markdown",
   "metadata": {},
   "source": [
    "###Latihan 6. <a name=\"back6\"></a>Jajak Pendapat Pemilu\n",
    "\n",
    "Tinjaulah sebuah Pemilihan Umum (Pemilu) di mana satu juta orang akan memilih. 490,000 orang akan memilih kandidat $A$ dan 510,000 orang akan memilih kandidat $B$. Sehari sebelum Pemilu berlangsung, perusahaan \"Maurice si Anjing\" menyelenggarakan polling untuk 1000 responden yang dipilih secara acak. Kita akan menginvestigasi probabilitas dari \"Si Anjing\" untuk memprediksi kandidat pemenang dengan tepat. Pertama, buatlah 1000 nilai yang terdistribusi secara seragam/*uniform* antara 0 dan 1 lalu hitunglah jumlah nilai yang berada di bawah 0.49 (jumlah suara untuk kandidat $A$). Tetapkanlah *seed* sebesar 50. Jika kode Anda tepat, jumlah pemilih kandidat $A$ dalam polling adalah 501, jadi \"Si Anjing\" akan memprediksi bahwa kandidat $A$ yang menjadi pemenangnya."
   ]
  },
  {
   "cell_type": "code",
   "execution_count": null,
   "metadata": {
    "collapsed": false
   },
   "outputs": [],
   "source": []
  },
  {
   "cell_type": "markdown",
   "metadata": {},
   "source": [
    "Selanjutnya, lakukan polling 1000 kali. Hitunglah berapa kali kandidat $A$ memenangkan polling dan berapa kali kandidat $B$ yang jadi pemenangnya. Berapakah probabilitas \"Si Anjing\" memprediksi pemenang yang tepat? Dan berapakah probabilitas \"Si Anjing\" memprediksi kondisi seri? Apakah probabilitas \"Si Anjing\" untuk memprediksi pemenang dengan tepat akan bertambah secara signifikan ketika ia menambah jumlah responden hingga 5000 responden?"
   ]
  },
  {
   "cell_type": "code",
   "execution_count": null,
   "metadata": {
    "collapsed": false
   },
   "outputs": [],
   "source": []
  },
  {
   "cell_type": "markdown",
   "metadata": {},
   "source": [
    "<a href=\"#ex6answer\">Kunci Jawaban Latihan 6</a>"
   ]
  },
  {
   "cell_type": "markdown",
   "metadata": {},
   "source": [
    "###Kunci Jawaban Tiap latihan"
   ]
  },
  {
   "cell_type": "markdown",
   "metadata": {},
   "source": [
    "<a name=\"ex1answer\">Kunci Jawaban Latihan 1</a>"
   ]
  },
  {
   "cell_type": "code",
   "execution_count": 35,
   "metadata": {
    "collapsed": false
   },
   "outputs": [
    {
     "name": "stdout",
     "output_type": "stream",
     "text": [
      "Jumlah putaran waktu  1  adalah  17.0\n",
      "Jumlah putaran waktu  2  adalah  17.0\n",
      "Jumlah putaran waktu  3  adalah  15.0\n",
      "Jumlah putaran waktu  4  adalah  24.0\n",
      "Jumlah putaran waktu  5  adalah  19.0\n",
      "Jumlah putaran waktu  6  adalah  8.0\n",
      "Total jumlah pelemparan  100.0\n"
     ]
    }
   ],
   "source": [
    "rnd.seed(33)\n",
    "dicethrow = rnd.random_integers(1,6,100)\n",
    "side = np.zeros(6)\n",
    "for i in range(6): \n",
    "    side[i] = np.sum( dicethrow == i+1 )\n",
    "    print('Jumlah putaran waktu ',i+1,' adalah ',side[i])\n",
    "print('Total jumlah pelemparan ',sum(side))"
   ]
  },
  {
   "cell_type": "markdown",
   "metadata": {},
   "source": [
    "<a href=\"#back1\">Kembali ke Latihan 1</a>\n",
    "\n",
    "<a name=\"ex2answer\">Kunci Jawaban Latihan 2</a>"
   ]
  },
  {
   "cell_type": "code",
   "execution_count": 36,
   "metadata": {
    "collapsed": false
   },
   "outputs": [
    {
     "data": {
      "text/plain": [
       "<matplotlib.text.Text at 0x7683bb0>"
      ]
     },
     "execution_count": 36,
     "metadata": {},
     "output_type": "execute_result"
    },
    {
     "data": {
      "image/png": "[encoded data removed]",
      "text/plain": [
       "<matplotlib.figure.Figure at 0x7652310>"
      ]
     },
     "metadata": {},
     "output_type": "display_data"
    }
   ],
   "source": [
    "N = 1000\n",
    "heads = -np.sum( rnd.random_integers(0,1,(5,1000))-1, axis=0 ) # Atau sebut saja ekor = 0 dan kepala = 1\n",
    "countheads = np.zeros(6)\n",
    "for i in range(6):\n",
    "    countheads[i] = sum(heads==i)\n",
    "plt.plot( list(range(0,6)), countheads/N, 'bo' )\n",
    "plt.xlabel('Jumlah kepala dalam lima kali pembalikan')\n",
    "plt.ylabel('probabilitas')"
   ]
  },
  {
   "cell_type": "code",
   "execution_count": 37,
   "metadata": {
    "collapsed": false
   },
   "outputs": [
    {
     "name": "stdout",
     "output_type": "stream",
     "text": [
      "cumprob: [ 0.032  0.188  0.509  0.808  0.967  1.   ]\n"
     ]
    },
    {
     "data": {
      "text/plain": [
       "<matplotlib.text.Text at 0x769dd30>"
      ]
     },
     "execution_count": 37,
     "metadata": {},
     "output_type": "execute_result"
    },
    {
     "data": {
      "image/png": "[encoded data removed]",
      "text/plain": [
       "<matplotlib.figure.Figure at 0x76ab930>"
      ]
     },
     "metadata": {},
     "output_type": "display_data"
    }
   ],
   "source": [
    "cumprob = np.cumsum(countheads/N)\n",
    "print('cumprob:',cumprob)\n",
    "y = np.hstack((0,cumprob,1))\n",
    "plt.plot(np.arange(-1,7),y,drawstyle='steps-post')\n",
    "plt.xlim(-0.1,5.1)\n",
    "plt.ylim(-0.1,1.1)\n",
    "plt.xlabel('Jumlah kepala dalam lima kali pembalikan')\n",
    "plt.ylabel('Probabilitas ')"
   ]
  },
  {
   "cell_type": "markdown",
   "metadata": {},
   "source": [
    "<a href=\"#back2\">Kembali ke Latihan 2</a>\n",
    "\n",
    "<a name=\"ex3answer\">Kunci Jawaban Latihan 3</a>"
   ]
  },
  {
   "cell_type": "code",
   "execution_count": 38,
   "metadata": {
    "collapsed": false
   },
   "outputs": [
    {
     "name": "stdout",
     "output_type": "stream",
     "text": [
      "Probabilitas Teoritis: \n",
      "0  kepala  0.03125\n",
      "1  kepala  0.15625\n",
      "2  kepala  0.3125\n",
      "3  kepala  0.3125\n",
      "4  kepala  0.15625\n",
      "5  kepala  0.03125\n",
      "Probabilitas dengan  1000  percobaan  [ 0.  0.  0.  0.  0.  0.]\n",
      "Probabilitas dengan  10000  percobaan  [ 0.  0.  0.  0.  0.  0.]\n",
      "Probabilitas dengan  100000  percobaan  [ 0.  0.  0.  0.  0.  0.]\n"
     ]
    }
   ],
   "source": [
    "from scipy.misc import comb\n",
    "print('Probabilitas Teoritis: ')\n",
    "for k in range(6):\n",
    "    print(k,' kepala ',comb(5,k) * 0.5**k * 0.5**(5-k))\n",
    "for N in (1000,10000,100000):\n",
    "    heads = np.sum( rnd.random_integers(0,1,(5,N)), axis=0 )\n",
    "    hitungkepala = np.zeros(6)\n",
    "    for i in range(6):\n",
    "        countheads[i] = np.sum(heads==i)\n",
    "    print('Probabilitas dengan ',N,' percobaan ',hitungkepala / float(N))"
   ]
  },
  {
   "cell_type": "markdown",
   "metadata": {},
   "source": [
    "<a href=\"#back3\">Kembali ke Latihan 3</a>\n",
    "\n",
    "<a name=\"ex4answer\">Kunci Jawaban Latihan 4</a>"
   ]
  },
  {
   "cell_type": "code",
   "execution_count": 40,
   "metadata": {
    "collapsed": false
   },
   "outputs": [
    {
     "name": "stdout",
     "output_type": "stream",
     "text": [
      "[ 0.02   0.1    0.249  0.42   0.678  1.   ]\n"
     ]
    },
    {
     "data": {
      "text/plain": [
       "<matplotlib.text.Text at 0x796c1f0>"
      ]
     },
     "execution_count": 40,
     "metadata": {},
     "output_type": "execute_result"
    },
    {
     "data": {
      "image/png": "[encoded data removed]",
      "text/plain": [
       "<matplotlib.figure.Figure at 0x6eb6650>"
      ]
     },
     "metadata": {},
     "output_type": "display_data"
    }
   ],
   "source": [
    "dice = rnd.random_integers(1,6,(2,1000))\n",
    "highest_dice = np.amax(dice,0)\n",
    "outcome = np.zeros(6)\n",
    "for i in range(6):\n",
    "    outcome[i] = np.sum(highest_dice==i+1) / float(1000)\n",
    "y = np.hstack((0,np.cumsum(outcome),1))\n",
    "plt.plot(list(range(0,8)),y,drawstyle='steps-post')\n",
    "plt.xlim(0.8,6.2)\n",
    "plt.ylim(-0.1,1.1)\n",
    "print(np.cumsum(outcome))\n",
    "plt.xlabel('Dadu tertinggi')\n",
    "plt.ylabel('Probabilitas')"
   ]
  },
  {
   "cell_type": "markdown",
   "metadata": {},
   "source": [
    "<a href=\"#back4\">Kembali ke Latihan 4</a>\n",
    "\n",
    "<a name=\"ex5answer\">Kunci Jawaban Latihan 5</a>"
   ]
  },
  {
   "cell_type": "code",
   "execution_count": 41,
   "metadata": {
    "collapsed": false
   },
   "outputs": [
    {
     "name": "stdout",
     "output_type": "stream",
     "text": [
      "Hasil dari  1000  pelemparan:  [ 0.  0.  0.  0.  0.  0.]\n",
      "Hasil dari  10000  pelemparan:  [ 0.  0.  0.  0.  0.  0.]\n",
      "Hasil dari  100000  pelemparan:  [ 0.  0.  0.  0.  0.  0.]\n",
      "Probabilitas eksak:  [ 0.02777778  0.08333333  0.13888889  0.19444444  0.25        0.30555556]\n"
     ]
    }
   ],
   "source": [
    "for N in [1000, 10000, 100000]:\n",
    "    dice = rnd.random_integers(1,6,(2,N))\n",
    "    highest_dice = np.amax(dice,axis=0)\n",
    "    hasil = np.zeros(6)\n",
    "    for i in range(6):\n",
    "        outcome[i] = np.sum(highest_dice==i+1) / float(N)\n",
    "    print('Hasil dari ',N,' pelemparan: ',hasil)\n",
    "# Nilai-nilai Eksak\n",
    "exact = np.zeros(6)\n",
    "for i,j in enumerate(range(1,12,2)):\n",
    "    exact[i] = j / 36.0\n",
    "print('Probabilitas eksak: ',exact)"
   ]
  },
  {
   "cell_type": "markdown",
   "metadata": {},
   "source": [
    "<a href=\"#back5\">Kembali ke Latihan 5</a>\n",
    "\n",
    "<a name=\"ex6answer\">Kunci Jawaban Latihan 6</a>"
   ]
  },
  {
   "cell_type": "code",
   "execution_count": 42,
   "metadata": {
    "collapsed": false
   },
   "outputs": [
    {
     "name": "stdout",
     "output_type": "stream",
     "text": [
      "501\n"
     ]
    }
   ],
   "source": [
    "rnd.seed(50)\n",
    "r = rnd.random_sample(1000)\n",
    "votes_for_A = np.sum(r < 0.49)\n",
    "print(votes_for_A)"
   ]
  },
  {
   "cell_type": "code",
   "execution_count": 43,
   "metadata": {
    "collapsed": false
   },
   "outputs": [
    {
     "name": "stdout",
     "output_type": "stream",
     "text": [
      "Jumlah responden dalam polling:  1000\n",
      "Probabilitas kandidat A menang berdasarkan prediksi:  0.268\n",
      "Probabilitas polling memprediksi hasil seri:  0.024\n",
      "Jumlah responden dalam polling:  5000\n",
      "Probabilitas kandidat A menang berdasarkan prediksi:  0.0752\n",
      "Probabilitas polling memprediksi hasil seri:  0.0046\n"
     ]
    }
   ],
   "source": [
    "Nlist = [1000,5000]\n",
    "for N in Nlist:\n",
    "    Awins = 0\n",
    "    tie = 0\n",
    "    for i in range(N):\n",
    "        r = rnd.random_sample(N)\n",
    "        if np.sum(r < 0.49) > N/2:\n",
    "            Awins += 1\n",
    "        elif np.sum(r < 0.49) == N/2:\n",
    "            tie += 1\n",
    "    print('Jumlah responden dalam polling: ',N)\n",
    "    print('Probabilitas kandidat A menang berdasarkan prediksi: ',Awins/float(N))\n",
    "    print('Probabilitas polling memprediksi hasil seri: ',tie/float(N))"
   ]
  },
  {
   "cell_type": "markdown",
   "metadata": {},
   "source": [
    "<a href=\"#back6\">Kembali ke Latihan 6</a>"
   ]
  },
  {
   "cell_type": "code",
   "execution_count": null,
   "metadata": {
    "collapsed": false
   },
   "outputs": [],
   "source": []
  }
 ],
 "metadata": {
  "kernelspec": {
   "display_name": "Python [Root]",
   "language": "python",
   "name": "Python [Root]"
  },
  "language_info": {
   "codemirror_mode": {
    "name": "ipython",
    "version": 3
   },
   "file_extension": ".py",
   "mimetype": "text/x-python",
   "name": "python",
   "nbconvert_exporter": "python",
   "pygments_lexer": "ipython3",
   "version": "3.5.2"
  }
 },
 "nbformat": 4,
 "nbformat_minor": 0
}
